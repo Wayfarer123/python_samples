{
 "cells": [
  {
   "cell_type": "code",
   "execution_count": 101,
   "id": "e5448312",
   "metadata": {},
   "outputs": [],
   "source": [
    "import math\n",
    "import numpy as np\n",
    "import pandas as pd\n",
    "from scipy.spatial import distance\n",
    "import matplotlib.pyplot as plt\n",
    "import matplotlib.patches as mpatches\n",
    "import seaborn as sns\n",
    "import scipy.stats as sts\n",
    "%matplotlib inline\n",
    "from IPython.display import display, Latex\n",
    "from sklearn import model_selection, datasets, linear_model, metrics\n",
    "from statsmodels.stats.proportion import proportion_confint\n",
    "from statsmodels.stats.weightstats import *\n",
    "from statsmodels.stats.weightstats import _zconfint_generic, _tconfint_generic\n",
    "import warnings\n",
    "warnings.filterwarnings('ignore')\n",
    "sns.set_theme(style='darkgrid')"
   ]
  },
  {
   "cell_type": "markdown",
   "id": "914f3545",
   "metadata": {},
   "source": [
    "#### Задание \n",
    "\n",
    "1. Размер кредитного лимита (LIMIT_BAL). В двух группах, тех людей, кто вернул кредит (default = 0) и тех, кто его не вернул (default = 1) проверьте гипотезы:   \n",
    "    a)  о равенстве медианных значений кредитного лимита с помощью подходящей интервальной оценки  \n",
    "    b) о равенстве распределений с помощью одного из подходящих непараметрических критериев проверки равенства средних.  Значимы ли полученные результаты с практической точки зрения ?\n",
    "\n",
    "2. Пол (SEX): Проверьте гипотезу о том,  что гендерный состав  группы людей вернувших и не вернувших кредит отличается.  Хорошо, если вы предоставите несколько различных решений  этой задачи (с помощью доверительного интервала и подходящего статистического критерия)\n",
    "\n",
    "3. Образование (EDUCATION): Проверьте гипотезу о том, что образование не влияет на то, вернет ли человек долг.  Предложите способ наглядного представления разницы в ожидаемых и наблюдаемых значениях количества человек вернувших и не вернувших долг. Например, составьте таблицу сопряженности \"образование\" на \"возврат долга\", где значением ячейки была бы  разность между наблюдаемым и ожидаемым количеством человек.  Как бы вы предложили модифицировать таблицу так, чтобы привести значения ячеек к одному масштабу не потеряв в интерпретируемости ?  Наличие какого образования является наилучшим индикатором того, что человек  отдаст долг ? наоборт, не отдаст долг ?\n",
    "\n",
    "4. Семейное положение (MARRIAGE): Проверьте, как связан семейный статус с индикатором дефолта: нужно предложить меру, по которой можно измерить возможную связь этих переменных и посчитать ее значение.\n",
    "\n",
    "5. Возраст (AGE): Относительно двух групп людей  вернувших и не вернувших кредит  проверьте следующие гипотезы:   a)  о равенстве медианных значений возрастов людей   b) о равенстве распределений  с помощью одного из подходящих непараметрических критериев проверки равенства средних.  Значимы ли полученные результаты с практической точки зрения ?"
   ]
  },
  {
   "cell_type": "markdown",
   "id": "2a92a080",
   "metadata": {},
   "source": [
    "### Загрузим данные и посмотрим на них:"
   ]
  },
  {
   "cell_type": "markdown",
   "id": "d34daa11",
   "metadata": {},
   "source": [
    "LIMIT_BAL:  размер кредитного лимита (в том числе и на семью клиента)\n",
    "\n",
    "SEX: пол клиента (1 = мужской, 2 = женский )\n",
    "\n",
    "EDUCATION: образование (0 = доктор, 1 = магистр; 2 = бакалавр; 3 = выпускник школы; 4 = начальное образование; 5= прочее; 6 = нет данных ).\n",
    "\n",
    "MARRIAGE: (0 = отказываюсь отвечать; 1 = замужем/женат; 2 = холост; 3 = нет данных). \n",
    "\n",
    "AGE: возраст в годах\n",
    "\n",
    "PAY_0 - PAY_6 : История прошлых платежей по кредиту. PAY_6 - платеж в апреле, ... Pay_0 - платеж в сентябре. Платеж = (0 = исправный платеж, 1=задержка в один месяц, 2=задержка в 2 месяца ...)\n",
    "\n",
    "BILL_AMT1 - BILL_AMT6:  задолженность,  BILL_AMT6 - на апрель, BILL_AMT1 - на сентябрь \n",
    "\n",
    "PAY_AMT1 - PAY_AMT6: сумма уплаченная в PAY_AMT6 - апреле, ..., PAY_AMT1 - сентябре \n",
    "\n",
    "default - индикатор невозврата денежных средств"
   ]
  },
  {
   "cell_type": "code",
   "execution_count": 2,
   "id": "f7d3ac0e",
   "metadata": {
    "scrolled": true
   },
   "outputs": [
    {
     "data": {
      "text/html": [
       "<div>\n",
       "<style scoped>\n",
       "    .dataframe tbody tr th:only-of-type {\n",
       "        vertical-align: middle;\n",
       "    }\n",
       "\n",
       "    .dataframe tbody tr th {\n",
       "        vertical-align: top;\n",
       "    }\n",
       "\n",
       "    .dataframe thead th {\n",
       "        text-align: right;\n",
       "    }\n",
       "</style>\n",
       "<table border=\"1\" class=\"dataframe\">\n",
       "  <thead>\n",
       "    <tr style=\"text-align: right;\">\n",
       "      <th></th>\n",
       "      <th>ID</th>\n",
       "      <th>LIMIT_BAL</th>\n",
       "      <th>SEX</th>\n",
       "      <th>EDUCATION</th>\n",
       "      <th>MARRIAGE</th>\n",
       "      <th>AGE</th>\n",
       "      <th>PAY_0</th>\n",
       "      <th>PAY_2</th>\n",
       "      <th>PAY_3</th>\n",
       "      <th>PAY_4</th>\n",
       "      <th>...</th>\n",
       "      <th>BILL_AMT4</th>\n",
       "      <th>BILL_AMT5</th>\n",
       "      <th>BILL_AMT6</th>\n",
       "      <th>PAY_AMT1</th>\n",
       "      <th>PAY_AMT2</th>\n",
       "      <th>PAY_AMT3</th>\n",
       "      <th>PAY_AMT4</th>\n",
       "      <th>PAY_AMT5</th>\n",
       "      <th>PAY_AMT6</th>\n",
       "      <th>default</th>\n",
       "    </tr>\n",
       "  </thead>\n",
       "  <tbody>\n",
       "    <tr>\n",
       "      <th>0</th>\n",
       "      <td>1</td>\n",
       "      <td>20000</td>\n",
       "      <td>2</td>\n",
       "      <td>2</td>\n",
       "      <td>1</td>\n",
       "      <td>24</td>\n",
       "      <td>2</td>\n",
       "      <td>2</td>\n",
       "      <td>0</td>\n",
       "      <td>0</td>\n",
       "      <td>...</td>\n",
       "      <td>0</td>\n",
       "      <td>0</td>\n",
       "      <td>0</td>\n",
       "      <td>0</td>\n",
       "      <td>689</td>\n",
       "      <td>0</td>\n",
       "      <td>0</td>\n",
       "      <td>0</td>\n",
       "      <td>0</td>\n",
       "      <td>1</td>\n",
       "    </tr>\n",
       "    <tr>\n",
       "      <th>1</th>\n",
       "      <td>2</td>\n",
       "      <td>120000</td>\n",
       "      <td>2</td>\n",
       "      <td>2</td>\n",
       "      <td>2</td>\n",
       "      <td>26</td>\n",
       "      <td>0</td>\n",
       "      <td>2</td>\n",
       "      <td>0</td>\n",
       "      <td>0</td>\n",
       "      <td>...</td>\n",
       "      <td>3272</td>\n",
       "      <td>3455</td>\n",
       "      <td>3261</td>\n",
       "      <td>0</td>\n",
       "      <td>1000</td>\n",
       "      <td>1000</td>\n",
       "      <td>1000</td>\n",
       "      <td>0</td>\n",
       "      <td>2000</td>\n",
       "      <td>1</td>\n",
       "    </tr>\n",
       "    <tr>\n",
       "      <th>2</th>\n",
       "      <td>3</td>\n",
       "      <td>90000</td>\n",
       "      <td>2</td>\n",
       "      <td>2</td>\n",
       "      <td>2</td>\n",
       "      <td>34</td>\n",
       "      <td>0</td>\n",
       "      <td>0</td>\n",
       "      <td>0</td>\n",
       "      <td>0</td>\n",
       "      <td>...</td>\n",
       "      <td>14331</td>\n",
       "      <td>14948</td>\n",
       "      <td>15549</td>\n",
       "      <td>1518</td>\n",
       "      <td>1500</td>\n",
       "      <td>1000</td>\n",
       "      <td>1000</td>\n",
       "      <td>1000</td>\n",
       "      <td>5000</td>\n",
       "      <td>0</td>\n",
       "    </tr>\n",
       "    <tr>\n",
       "      <th>3</th>\n",
       "      <td>4</td>\n",
       "      <td>50000</td>\n",
       "      <td>2</td>\n",
       "      <td>2</td>\n",
       "      <td>1</td>\n",
       "      <td>37</td>\n",
       "      <td>0</td>\n",
       "      <td>0</td>\n",
       "      <td>0</td>\n",
       "      <td>0</td>\n",
       "      <td>...</td>\n",
       "      <td>28314</td>\n",
       "      <td>28959</td>\n",
       "      <td>29547</td>\n",
       "      <td>2000</td>\n",
       "      <td>2019</td>\n",
       "      <td>1200</td>\n",
       "      <td>1100</td>\n",
       "      <td>1069</td>\n",
       "      <td>1000</td>\n",
       "      <td>0</td>\n",
       "    </tr>\n",
       "    <tr>\n",
       "      <th>4</th>\n",
       "      <td>5</td>\n",
       "      <td>50000</td>\n",
       "      <td>1</td>\n",
       "      <td>2</td>\n",
       "      <td>1</td>\n",
       "      <td>57</td>\n",
       "      <td>0</td>\n",
       "      <td>0</td>\n",
       "      <td>0</td>\n",
       "      <td>0</td>\n",
       "      <td>...</td>\n",
       "      <td>20940</td>\n",
       "      <td>19146</td>\n",
       "      <td>19131</td>\n",
       "      <td>2000</td>\n",
       "      <td>36681</td>\n",
       "      <td>10000</td>\n",
       "      <td>9000</td>\n",
       "      <td>689</td>\n",
       "      <td>679</td>\n",
       "      <td>0</td>\n",
       "    </tr>\n",
       "  </tbody>\n",
       "</table>\n",
       "<p>5 rows × 25 columns</p>\n",
       "</div>"
      ],
      "text/plain": [
       "   ID  LIMIT_BAL  SEX  EDUCATION  MARRIAGE  AGE  PAY_0  PAY_2  PAY_3  PAY_4  \\\n",
       "0   1      20000    2          2         1   24      2      2      0      0   \n",
       "1   2     120000    2          2         2   26      0      2      0      0   \n",
       "2   3      90000    2          2         2   34      0      0      0      0   \n",
       "3   4      50000    2          2         1   37      0      0      0      0   \n",
       "4   5      50000    1          2         1   57      0      0      0      0   \n",
       "\n",
       "   ...  BILL_AMT4  BILL_AMT5  BILL_AMT6  PAY_AMT1  PAY_AMT2  PAY_AMT3  \\\n",
       "0  ...          0          0          0         0       689         0   \n",
       "1  ...       3272       3455       3261         0      1000      1000   \n",
       "2  ...      14331      14948      15549      1518      1500      1000   \n",
       "3  ...      28314      28959      29547      2000      2019      1200   \n",
       "4  ...      20940      19146      19131      2000     36681     10000   \n",
       "\n",
       "   PAY_AMT4  PAY_AMT5  PAY_AMT6  default  \n",
       "0         0         0         0        1  \n",
       "1      1000         0      2000        1  \n",
       "2      1000      1000      5000        0  \n",
       "3      1100      1069      1000        0  \n",
       "4      9000       689       679        0  \n",
       "\n",
       "[5 rows x 25 columns]"
      ]
     },
     "execution_count": 2,
     "metadata": {},
     "output_type": "execute_result"
    }
   ],
   "source": [
    "data = pd.read_csv('credit_card_default_analysis.csv')\n",
    "data.head()"
   ]
  },
  {
   "cell_type": "code",
   "execution_count": 3,
   "id": "e1570733",
   "metadata": {},
   "outputs": [
    {
     "data": {
      "text/plain": [
       "(30000, 25)"
      ]
     },
     "execution_count": 3,
     "metadata": {},
     "output_type": "execute_result"
    }
   ],
   "source": [
    "data.shape"
   ]
  },
  {
   "cell_type": "code",
   "execution_count": 4,
   "id": "da260afb",
   "metadata": {},
   "outputs": [
    {
     "data": {
      "text/plain": [
       "0"
      ]
     },
     "execution_count": 4,
     "metadata": {},
     "output_type": "execute_result"
    }
   ],
   "source": [
    "data.isna().sum(axis = 0).sum()"
   ]
  },
  {
   "cell_type": "code",
   "execution_count": 5,
   "id": "8ecea81c",
   "metadata": {},
   "outputs": [
    {
     "data": {
      "text/html": [
       "<div>\n",
       "<style scoped>\n",
       "    .dataframe tbody tr th:only-of-type {\n",
       "        vertical-align: middle;\n",
       "    }\n",
       "\n",
       "    .dataframe tbody tr th {\n",
       "        vertical-align: top;\n",
       "    }\n",
       "\n",
       "    .dataframe thead th {\n",
       "        text-align: right;\n",
       "    }\n",
       "</style>\n",
       "<table border=\"1\" class=\"dataframe\">\n",
       "  <thead>\n",
       "    <tr style=\"text-align: right;\">\n",
       "      <th></th>\n",
       "      <th>ID</th>\n",
       "      <th>LIMIT_BAL</th>\n",
       "      <th>SEX</th>\n",
       "      <th>EDUCATION</th>\n",
       "      <th>MARRIAGE</th>\n",
       "      <th>AGE</th>\n",
       "      <th>PAY_0</th>\n",
       "      <th>PAY_2</th>\n",
       "      <th>PAY_3</th>\n",
       "      <th>PAY_4</th>\n",
       "      <th>...</th>\n",
       "      <th>BILL_AMT4</th>\n",
       "      <th>BILL_AMT5</th>\n",
       "      <th>BILL_AMT6</th>\n",
       "      <th>PAY_AMT1</th>\n",
       "      <th>PAY_AMT2</th>\n",
       "      <th>PAY_AMT3</th>\n",
       "      <th>PAY_AMT4</th>\n",
       "      <th>PAY_AMT5</th>\n",
       "      <th>PAY_AMT6</th>\n",
       "      <th>default</th>\n",
       "    </tr>\n",
       "  </thead>\n",
       "  <tbody>\n",
       "    <tr>\n",
       "      <th>count</th>\n",
       "      <td>30000.000000</td>\n",
       "      <td>30000.000000</td>\n",
       "      <td>30000.000000</td>\n",
       "      <td>30000.000000</td>\n",
       "      <td>30000.000000</td>\n",
       "      <td>30000.000000</td>\n",
       "      <td>30000.000000</td>\n",
       "      <td>30000.000000</td>\n",
       "      <td>30000.000000</td>\n",
       "      <td>30000.000000</td>\n",
       "      <td>...</td>\n",
       "      <td>30000.000000</td>\n",
       "      <td>30000.000000</td>\n",
       "      <td>30000.000000</td>\n",
       "      <td>30000.000000</td>\n",
       "      <td>3.000000e+04</td>\n",
       "      <td>30000.00000</td>\n",
       "      <td>30000.000000</td>\n",
       "      <td>30000.000000</td>\n",
       "      <td>30000.000000</td>\n",
       "      <td>30000.000000</td>\n",
       "    </tr>\n",
       "    <tr>\n",
       "      <th>mean</th>\n",
       "      <td>15000.500000</td>\n",
       "      <td>167484.322667</td>\n",
       "      <td>1.603733</td>\n",
       "      <td>1.853133</td>\n",
       "      <td>1.551867</td>\n",
       "      <td>35.485500</td>\n",
       "      <td>0.356767</td>\n",
       "      <td>0.320033</td>\n",
       "      <td>0.304067</td>\n",
       "      <td>0.258767</td>\n",
       "      <td>...</td>\n",
       "      <td>43262.948967</td>\n",
       "      <td>40311.400967</td>\n",
       "      <td>38871.760400</td>\n",
       "      <td>5663.580500</td>\n",
       "      <td>5.921163e+03</td>\n",
       "      <td>5225.68150</td>\n",
       "      <td>4826.076867</td>\n",
       "      <td>4799.387633</td>\n",
       "      <td>5215.502567</td>\n",
       "      <td>0.221200</td>\n",
       "    </tr>\n",
       "    <tr>\n",
       "      <th>std</th>\n",
       "      <td>8660.398374</td>\n",
       "      <td>129747.661567</td>\n",
       "      <td>0.489129</td>\n",
       "      <td>0.790349</td>\n",
       "      <td>0.521970</td>\n",
       "      <td>9.217904</td>\n",
       "      <td>0.760594</td>\n",
       "      <td>0.801727</td>\n",
       "      <td>0.790589</td>\n",
       "      <td>0.761113</td>\n",
       "      <td>...</td>\n",
       "      <td>64332.856134</td>\n",
       "      <td>60797.155770</td>\n",
       "      <td>59554.107537</td>\n",
       "      <td>16563.280354</td>\n",
       "      <td>2.304087e+04</td>\n",
       "      <td>17606.96147</td>\n",
       "      <td>15666.159744</td>\n",
       "      <td>15278.305679</td>\n",
       "      <td>17777.465775</td>\n",
       "      <td>0.415062</td>\n",
       "    </tr>\n",
       "    <tr>\n",
       "      <th>min</th>\n",
       "      <td>1.000000</td>\n",
       "      <td>10000.000000</td>\n",
       "      <td>1.000000</td>\n",
       "      <td>0.000000</td>\n",
       "      <td>0.000000</td>\n",
       "      <td>21.000000</td>\n",
       "      <td>0.000000</td>\n",
       "      <td>0.000000</td>\n",
       "      <td>0.000000</td>\n",
       "      <td>0.000000</td>\n",
       "      <td>...</td>\n",
       "      <td>-170000.000000</td>\n",
       "      <td>-81334.000000</td>\n",
       "      <td>-339603.000000</td>\n",
       "      <td>0.000000</td>\n",
       "      <td>0.000000e+00</td>\n",
       "      <td>0.00000</td>\n",
       "      <td>0.000000</td>\n",
       "      <td>0.000000</td>\n",
       "      <td>0.000000</td>\n",
       "      <td>0.000000</td>\n",
       "    </tr>\n",
       "    <tr>\n",
       "      <th>25%</th>\n",
       "      <td>7500.750000</td>\n",
       "      <td>50000.000000</td>\n",
       "      <td>1.000000</td>\n",
       "      <td>1.000000</td>\n",
       "      <td>1.000000</td>\n",
       "      <td>28.000000</td>\n",
       "      <td>0.000000</td>\n",
       "      <td>0.000000</td>\n",
       "      <td>0.000000</td>\n",
       "      <td>0.000000</td>\n",
       "      <td>...</td>\n",
       "      <td>2326.750000</td>\n",
       "      <td>1763.000000</td>\n",
       "      <td>1256.000000</td>\n",
       "      <td>1000.000000</td>\n",
       "      <td>8.330000e+02</td>\n",
       "      <td>390.00000</td>\n",
       "      <td>296.000000</td>\n",
       "      <td>252.500000</td>\n",
       "      <td>117.750000</td>\n",
       "      <td>0.000000</td>\n",
       "    </tr>\n",
       "    <tr>\n",
       "      <th>50%</th>\n",
       "      <td>15000.500000</td>\n",
       "      <td>140000.000000</td>\n",
       "      <td>2.000000</td>\n",
       "      <td>2.000000</td>\n",
       "      <td>2.000000</td>\n",
       "      <td>34.000000</td>\n",
       "      <td>0.000000</td>\n",
       "      <td>0.000000</td>\n",
       "      <td>0.000000</td>\n",
       "      <td>0.000000</td>\n",
       "      <td>...</td>\n",
       "      <td>19052.000000</td>\n",
       "      <td>18104.500000</td>\n",
       "      <td>17071.000000</td>\n",
       "      <td>2100.000000</td>\n",
       "      <td>2.009000e+03</td>\n",
       "      <td>1800.00000</td>\n",
       "      <td>1500.000000</td>\n",
       "      <td>1500.000000</td>\n",
       "      <td>1500.000000</td>\n",
       "      <td>0.000000</td>\n",
       "    </tr>\n",
       "    <tr>\n",
       "      <th>75%</th>\n",
       "      <td>22500.250000</td>\n",
       "      <td>240000.000000</td>\n",
       "      <td>2.000000</td>\n",
       "      <td>2.000000</td>\n",
       "      <td>2.000000</td>\n",
       "      <td>41.000000</td>\n",
       "      <td>0.000000</td>\n",
       "      <td>0.000000</td>\n",
       "      <td>0.000000</td>\n",
       "      <td>0.000000</td>\n",
       "      <td>...</td>\n",
       "      <td>54506.000000</td>\n",
       "      <td>50190.500000</td>\n",
       "      <td>49198.250000</td>\n",
       "      <td>5006.000000</td>\n",
       "      <td>5.000000e+03</td>\n",
       "      <td>4505.00000</td>\n",
       "      <td>4013.250000</td>\n",
       "      <td>4031.500000</td>\n",
       "      <td>4000.000000</td>\n",
       "      <td>0.000000</td>\n",
       "    </tr>\n",
       "    <tr>\n",
       "      <th>max</th>\n",
       "      <td>30000.000000</td>\n",
       "      <td>1000000.000000</td>\n",
       "      <td>2.000000</td>\n",
       "      <td>6.000000</td>\n",
       "      <td>3.000000</td>\n",
       "      <td>79.000000</td>\n",
       "      <td>8.000000</td>\n",
       "      <td>8.000000</td>\n",
       "      <td>8.000000</td>\n",
       "      <td>8.000000</td>\n",
       "      <td>...</td>\n",
       "      <td>891586.000000</td>\n",
       "      <td>927171.000000</td>\n",
       "      <td>961664.000000</td>\n",
       "      <td>873552.000000</td>\n",
       "      <td>1.684259e+06</td>\n",
       "      <td>896040.00000</td>\n",
       "      <td>621000.000000</td>\n",
       "      <td>426529.000000</td>\n",
       "      <td>528666.000000</td>\n",
       "      <td>1.000000</td>\n",
       "    </tr>\n",
       "  </tbody>\n",
       "</table>\n",
       "<p>8 rows × 25 columns</p>\n",
       "</div>"
      ],
      "text/plain": [
       "                 ID       LIMIT_BAL           SEX     EDUCATION      MARRIAGE  \\\n",
       "count  30000.000000    30000.000000  30000.000000  30000.000000  30000.000000   \n",
       "mean   15000.500000   167484.322667      1.603733      1.853133      1.551867   \n",
       "std     8660.398374   129747.661567      0.489129      0.790349      0.521970   \n",
       "min        1.000000    10000.000000      1.000000      0.000000      0.000000   \n",
       "25%     7500.750000    50000.000000      1.000000      1.000000      1.000000   \n",
       "50%    15000.500000   140000.000000      2.000000      2.000000      2.000000   \n",
       "75%    22500.250000   240000.000000      2.000000      2.000000      2.000000   \n",
       "max    30000.000000  1000000.000000      2.000000      6.000000      3.000000   \n",
       "\n",
       "                AGE         PAY_0         PAY_2         PAY_3         PAY_4  \\\n",
       "count  30000.000000  30000.000000  30000.000000  30000.000000  30000.000000   \n",
       "mean      35.485500      0.356767      0.320033      0.304067      0.258767   \n",
       "std        9.217904      0.760594      0.801727      0.790589      0.761113   \n",
       "min       21.000000      0.000000      0.000000      0.000000      0.000000   \n",
       "25%       28.000000      0.000000      0.000000      0.000000      0.000000   \n",
       "50%       34.000000      0.000000      0.000000      0.000000      0.000000   \n",
       "75%       41.000000      0.000000      0.000000      0.000000      0.000000   \n",
       "max       79.000000      8.000000      8.000000      8.000000      8.000000   \n",
       "\n",
       "       ...      BILL_AMT4      BILL_AMT5      BILL_AMT6       PAY_AMT1  \\\n",
       "count  ...   30000.000000   30000.000000   30000.000000   30000.000000   \n",
       "mean   ...   43262.948967   40311.400967   38871.760400    5663.580500   \n",
       "std    ...   64332.856134   60797.155770   59554.107537   16563.280354   \n",
       "min    ... -170000.000000  -81334.000000 -339603.000000       0.000000   \n",
       "25%    ...    2326.750000    1763.000000    1256.000000    1000.000000   \n",
       "50%    ...   19052.000000   18104.500000   17071.000000    2100.000000   \n",
       "75%    ...   54506.000000   50190.500000   49198.250000    5006.000000   \n",
       "max    ...  891586.000000  927171.000000  961664.000000  873552.000000   \n",
       "\n",
       "           PAY_AMT2      PAY_AMT3       PAY_AMT4       PAY_AMT5  \\\n",
       "count  3.000000e+04   30000.00000   30000.000000   30000.000000   \n",
       "mean   5.921163e+03    5225.68150    4826.076867    4799.387633   \n",
       "std    2.304087e+04   17606.96147   15666.159744   15278.305679   \n",
       "min    0.000000e+00       0.00000       0.000000       0.000000   \n",
       "25%    8.330000e+02     390.00000     296.000000     252.500000   \n",
       "50%    2.009000e+03    1800.00000    1500.000000    1500.000000   \n",
       "75%    5.000000e+03    4505.00000    4013.250000    4031.500000   \n",
       "max    1.684259e+06  896040.00000  621000.000000  426529.000000   \n",
       "\n",
       "            PAY_AMT6       default  \n",
       "count   30000.000000  30000.000000  \n",
       "mean     5215.502567      0.221200  \n",
       "std     17777.465775      0.415062  \n",
       "min         0.000000      0.000000  \n",
       "25%       117.750000      0.000000  \n",
       "50%      1500.000000      0.000000  \n",
       "75%      4000.000000      0.000000  \n",
       "max    528666.000000      1.000000  \n",
       "\n",
       "[8 rows x 25 columns]"
      ]
     },
     "execution_count": 5,
     "metadata": {},
     "output_type": "execute_result"
    }
   ],
   "source": [
    "data.describe(include = 'all')"
   ]
  },
  {
   "cell_type": "markdown",
   "id": "e2a081c4",
   "metadata": {},
   "source": [
    "### Рассмотрим гипотезы о равенстве медианного значения и распределений кредитного лимита среди вернувших и не вернувших кредит"
   ]
  },
  {
   "cell_type": "code",
   "execution_count": 6,
   "id": "1ee8b037",
   "metadata": {},
   "outputs": [],
   "source": [
    "data_ret = data[data.default == 0]\n",
    "data_def = data[data.default == 1]"
   ]
  },
  {
   "cell_type": "markdown",
   "id": "9678b5fe",
   "metadata": {},
   "source": [
    "Посмотрим на данные (среднее значение кредитного лимита в выборках):"
   ]
  },
  {
   "cell_type": "code",
   "execution_count": 75,
   "id": "0cef6053",
   "metadata": {},
   "outputs": [
    {
     "data": {
      "image/png": "[encoded data removed]",
      "text/plain": [
       "<Figure size 720x288 with 1 Axes>"
      ]
     },
     "metadata": {},
     "output_type": "display_data"
    }
   ],
   "source": [
    "g = sns.FacetGrid(data=data[['LIMIT_BAL', 'default']], hue='default', \n",
    "                 height=4, aspect=2.5, legend_out=False)\n",
    "g.map(sns.kdeplot, 'LIMIT_BAL', fill=True)\n",
    "g.add_legend(shadow=True, framealpha=0.9)\n",
    "g.ax.axvline(data_def.LIMIT_BAL.median(), ls=':', color='red')\n",
    "g.ax.axvline(data_ret.LIMIT_BAL.median(), ls=':', color='blue')\n",
    "plt.show()"
   ]
  },
  {
   "cell_type": "markdown",
   "id": "6f52d769",
   "metadata": {},
   "source": [
    "Вертикальные прямые на графике -- медианные значения в выборках."
   ]
  },
  {
   "cell_type": "code",
   "execution_count": 8,
   "id": "f2d84771",
   "metadata": {},
   "outputs": [
    {
     "name": "stdout",
     "output_type": "stream",
     "text": [
      "default=0: \n",
      " median = 150000.0\n",
      "default=1: \n",
      " median = 90000.0\n"
     ]
    }
   ],
   "source": [
    "print(f'default=0: \\n median = {data_ret.LIMIT_BAL.median()}')\n",
    "print(f'default=1: \\n median = {data_def.LIMIT_BAL.median()}')"
   ]
  },
  {
   "cell_type": "markdown",
   "id": "4e11628d",
   "metadata": {},
   "source": [
    "Судя по графикам и точечным оценкам, медианы выборок существенно отличаются, проверим статистическую значимость с помощью медианного теста с нулевой гипотезой о равенстве медиан:"
   ]
  },
  {
   "cell_type": "code",
   "execution_count": 86,
   "id": "7e6a3bb6",
   "metadata": {},
   "outputs": [
    {
     "name": "stdout",
     "output_type": "stream",
     "text": [
      "p-value = 1.3471418011496707e-150\n"
     ]
    }
   ],
   "source": [
    "stat, p, med, tbl = sts.median_test(data_ret.LIMIT_BAL, data_def.LIMIT_BAL)\n",
    "print(f'p-value = {p}')"
   ]
  },
  {
   "cell_type": "markdown",
   "id": "f32cf1d3",
   "metadata": {},
   "source": [
    "#### Достигаемый уровень значимости много меньше интересующего нас порога в 5%, а значит гипотеза о равенстве медиан уверенно отвергается, результат, очевидно, имеет не только статистическую значимость, т.к. точечные оценки отличаются почти на 70%."
   ]
  },
  {
   "cell_type": "markdown",
   "id": "526bc319",
   "metadata": {},
   "source": [
    "Теперь воспользуемся критерием Манна-Уитни для проверки равенства рассматриваемых распределений"
   ]
  },
  {
   "cell_type": "code",
   "execution_count": 10,
   "id": "b692a4e2",
   "metadata": {},
   "outputs": [
    {
     "data": {
      "text/plain": [
       "MannwhitneyuResult(statistic=95786286.5, pvalue=1.2255485818223303e-189)"
      ]
     },
     "execution_count": 10,
     "metadata": {},
     "output_type": "execute_result"
    }
   ],
   "source": [
    "sts.mannwhitneyu(data_ret.LIMIT_BAL, data_def.LIMIT_BAL, alternative = 'two-sided')"
   ]
  },
  {
   "cell_type": "markdown",
   "id": "f31159a8",
   "metadata": {},
   "source": [
    "#### Получившийся уровень значимости много меньше 0.05, а значит, на этом уровне значимости гипотеза о равенстве распределений кредитного лимита в выборке вернувших и не вернувших кредит также уверенно отвергается."
   ]
  },
  {
   "cell_type": "markdown",
   "id": "2b2fda4b",
   "metadata": {},
   "source": [
    "### Теперь рассмотрим гендерный состав обоих подвыборок и выясним, отличается ли он.\n",
    "Будем рассматривать этот категориальный признак как бинарный и считать долю мужчин среди вернувших и не вернувших кредит."
   ]
  },
  {
   "cell_type": "code",
   "execution_count": 11,
   "id": "84543fa7",
   "metadata": {},
   "outputs": [],
   "source": [
    "data_ret_sex = data_ret[['LIMIT_BAL', 'SEX']].replace(2, 0)\n",
    "data_def_sex = data_def[['LIMIT_BAL', 'SEX']].replace(2, 0)\n",
    "data_sex = data[['SEX', 'default']].replace(2, 0)\n",
    "data_sex['sex'] = pd.Series(['man' if x == 1 else 'woman' for x in data_sex.SEX])"
   ]
  },
  {
   "cell_type": "code",
   "execution_count": 71,
   "id": "1e24fb5f",
   "metadata": {},
   "outputs": [
    {
     "data": {
      "image/png": "[encoded data removed]",
      "text/plain": [
       "<Figure size 432x288 with 1 Axes>"
      ]
     },
     "metadata": {},
     "output_type": "display_data"
    }
   ],
   "source": [
    "g = sns.catplot(data=data_sex, x='default', hue='sex', kind = 'count', legend_out=False,\n",
    "                height=4, aspect=1.5)\n",
    "g.ax.legend(shadow=True, framealpha=0.7)\n",
    "plt.show()"
   ]
  },
  {
   "cell_type": "markdown",
   "id": "1e4d166d",
   "metadata": {},
   "source": [
    "Для начала построим доверительный интервал для разности долей мужчин в подвыборках:"
   ]
  },
  {
   "cell_type": "code",
   "execution_count": 13,
   "id": "f87958ed",
   "metadata": {},
   "outputs": [],
   "source": [
    "def proportions_confint_diff_ind(sample1, sample2, alpha = 0.05):    \n",
    "    z = sts.norm.ppf(1 - alpha / 2.)   \n",
    "    p1 = float(sum(sample1)) / len(sample1)\n",
    "    p2 = float(sum(sample2)) / len(sample2)\n",
    "    \n",
    "    left_boundary = (p1 - p2) - z * np.sqrt(p1 * (1 - p1)/ len(sample1) + p2 * (1 - p2)/ len(sample2))\n",
    "    right_boundary = (p1 - p2) + z * np.sqrt(p1 * (1 - p1)/ len(sample1) + p2 * (1 - p2)/ len(sample2))\n",
    "    \n",
    "    return np.array((left_boundary, right_boundary))"
   ]
  },
  {
   "cell_type": "code",
   "execution_count": 14,
   "id": "b465ff5e",
   "metadata": {},
   "outputs": [
    {
     "name": "stdout",
     "output_type": "stream",
     "text": [
      "sex distribution difference 95% confint: [-0.0605481 -0.0336349]\n"
     ]
    }
   ],
   "source": [
    "sex_distribution_difference_confint = proportions_confint_diff_ind(data_ret_sex.SEX, data_def_sex.SEX).round(7)\n",
    "print(f'sex distribution difference 95% confint: {sex_distribution_difference_confint}')"
   ]
  },
  {
   "cell_type": "markdown",
   "id": "c3934b5c",
   "metadata": {},
   "source": [
    "#### 0 не входит в полученный интервал, а значит исходя из полученного результата на уровне доверия 95% можно сказать, что доли мужчин вернувших и не вернувших кредит среди всех заемщиков отличаются, причем вторая больше, т.е. мужчины в выборке с большим шансом не возвращали кредит, чем женщины.\n",
    "\n",
    "Теперь повторим анализ с помощью Z-критерия для долей в 2 независимых выборках:"
   ]
  },
  {
   "cell_type": "code",
   "execution_count": 15,
   "id": "ced9da46",
   "metadata": {},
   "outputs": [],
   "source": [
    "def proportions_diff_z_stat_ind(sample1, sample2):\n",
    "    n1 = len(sample1)\n",
    "    n2 = len(sample2)\n",
    "    \n",
    "    p1 = float(sum(sample1)) / n1\n",
    "    p2 = float(sum(sample2)) / n2 \n",
    "    P = float(p1*n1 + p2*n2) / (n1 + n2)\n",
    "    \n",
    "    return (p1 - p2) / np.sqrt(P * (1 - P) * (1. / n1 + 1. / n2))\n",
    "def proportions_diff_z_test(z_stat, alternative = 'two-sided'):\n",
    "    if alternative not in ('two-sided', 'less', 'greater'):\n",
    "        raise ValueError(\"alternative not recognized\\n\"\n",
    "                         \"should be 'two-sided', 'less' or 'greater'\")\n",
    "    \n",
    "    if alternative == 'two-sided':\n",
    "        return 2 * (1 - sts.norm.cdf(np.abs(z_stat)))\n",
    "    \n",
    "    if alternative == 'less':\n",
    "        return sts.norm.cdf(z_stat)\n",
    "\n",
    "    if alternative == 'greater':\n",
    "        return 1 - sts.norm.cdf(z_stat)"
   ]
  },
  {
   "cell_type": "code",
   "execution_count": 16,
   "id": "28aa0c88",
   "metadata": {},
   "outputs": [
    {
     "name": "stdout",
     "output_type": "stream",
     "text": [
      "sex distribution difference  p-value, considering H0 -- equal: 4.5e-12\n"
     ]
    }
   ],
   "source": [
    "sex_distribution_difference_p_value = proportions_diff_z_test(proportions_diff_z_stat_ind(data_ret_sex.SEX, data_def_sex.SEX)).round(13)\n",
    "print(f'sex distribution difference  p-value, considering H0 -- equal: {sex_distribution_difference_p_value}')"
   ]
  },
  {
   "cell_type": "markdown",
   "id": "8c078d6d",
   "metadata": {},
   "source": [
    "#### Z-критерий для разности долей в независимых выборках также уверенно отвергает нулевую гипотезу об одинаковом гендерном распределении (равенстве долей мужчин) в выборках."
   ]
  },
  {
   "cell_type": "markdown",
   "id": "7f2fcd62",
   "metadata": {},
   "source": [
    "### Далее, проверим влияет ли образование на то, вернет ли человек долг:"
   ]
  },
  {
   "cell_type": "markdown",
   "id": "63ead0a5",
   "metadata": {},
   "source": [
    "Для начала посмотрим на данные:"
   ]
  },
  {
   "cell_type": "code",
   "execution_count": 46,
   "id": "dcdd8551",
   "metadata": {},
   "outputs": [],
   "source": [
    "dic_ed = pd.DataFrame([{\"EDUCATION\": 0, \"education\": \"доктор\"},\n",
    "                      {\"EDUCATION\": 1, \"education\": \"магистр\"},\n",
    "                      {\"EDUCATION\": 2, \"education\": \"бакалавр\"},\n",
    "                      {\"EDUCATION\": 3, \"education\": \"выпускник школы\"},\n",
    "                      {\"EDUCATION\": 4, \"education\": \"начальное образование\"},\n",
    "                      {\"EDUCATION\": 5, \"education\": \"прочее\"},\n",
    "                      {\"EDUCATION\": 6, \"education\": \"нет данных\"}])\n",
    "data_ed = data[[\"EDUCATION\", \"default\"]].merge(dic_ed)"
   ]
  },
  {
   "cell_type": "code",
   "execution_count": 82,
   "id": "2aa979b8",
   "metadata": {},
   "outputs": [
    {
     "data": {
      "image/png": "[encoded data removed]",
      "text/plain": [
       "<Figure size 945.725x360 with 1 Axes>"
      ]
     },
     "metadata": {},
     "output_type": "display_data"
    }
   ],
   "source": [
    "g = sns.displot(data=data_ed, x=\"education\", hue='default', multiple='stack',\n",
    "                height=5, aspect = 2.5)"
   ]
  },
  {
   "cell_type": "code",
   "execution_count": 83,
   "id": "16fe06db",
   "metadata": {},
   "outputs": [
    {
     "data": {
      "text/html": [
       "<div>\n",
       "<style scoped>\n",
       "    .dataframe tbody tr th:only-of-type {\n",
       "        vertical-align: middle;\n",
       "    }\n",
       "\n",
       "    .dataframe tbody tr th {\n",
       "        vertical-align: top;\n",
       "    }\n",
       "\n",
       "    .dataframe thead th {\n",
       "        text-align: right;\n",
       "    }\n",
       "</style>\n",
       "<table border=\"1\" class=\"dataframe\">\n",
       "  <thead>\n",
       "    <tr style=\"text-align: right;\">\n",
       "      <th>Education</th>\n",
       "      <th>бакалавр</th>\n",
       "      <th>выпускник школы</th>\n",
       "      <th>доктор</th>\n",
       "      <th>магистр</th>\n",
       "      <th>начальное образование</th>\n",
       "      <th>нет данных</th>\n",
       "      <th>прочее</th>\n",
       "    </tr>\n",
       "    <tr>\n",
       "      <th>default</th>\n",
       "      <th></th>\n",
       "      <th></th>\n",
       "      <th></th>\n",
       "      <th></th>\n",
       "      <th></th>\n",
       "      <th></th>\n",
       "      <th></th>\n",
       "    </tr>\n",
       "  </thead>\n",
       "  <tbody>\n",
       "    <tr>\n",
       "      <th>0</th>\n",
       "      <td>10700</td>\n",
       "      <td>3680</td>\n",
       "      <td>14</td>\n",
       "      <td>8549</td>\n",
       "      <td>116</td>\n",
       "      <td>43</td>\n",
       "      <td>262</td>\n",
       "    </tr>\n",
       "    <tr>\n",
       "      <th>1</th>\n",
       "      <td>3330</td>\n",
       "      <td>1237</td>\n",
       "      <td>0</td>\n",
       "      <td>2036</td>\n",
       "      <td>7</td>\n",
       "      <td>8</td>\n",
       "      <td>18</td>\n",
       "    </tr>\n",
       "  </tbody>\n",
       "</table>\n",
       "</div>"
      ],
      "text/plain": [
       "Education  бакалавр  выпускник школы  доктор  магистр  начальное образование  \\\n",
       "default                                                                        \n",
       "0             10700             3680      14     8549                    116   \n",
       "1              3330             1237       0     2036                      7   \n",
       "\n",
       "Education  нет данных  прочее  \n",
       "default                        \n",
       "0                  43     262  \n",
       "1                   8      18  "
      ]
     },
     "execution_count": 83,
     "metadata": {},
     "output_type": "execute_result"
    }
   ],
   "source": [
    "default_education = pd.crosstab(data_ed.default, data_ed.education, \n",
    "                                rownames=['default'], colnames=['Education'])\n",
    "default_education"
   ]
  },
  {
   "cell_type": "markdown",
   "id": "d517b6f8",
   "metadata": {},
   "source": [
    "Проверим гипотезу об отсутствии зависимости между возвратом долга и образованием с помощью критерия хи-квадрат:"
   ]
  },
  {
   "cell_type": "code",
   "execution_count": 85,
   "id": "416de0dc",
   "metadata": {},
   "outputs": [
    {
     "name": "stdout",
     "output_type": "stream",
     "text": [
      "p-value = 1.2332626245415605e-32\n"
     ]
    }
   ],
   "source": [
    "chi2, p2, dof, expected = sts.chi2_contingency(default_education)\n",
    "print(f'p-value = {p2}')"
   ]
  },
  {
   "cell_type": "markdown",
   "id": "ca00539f",
   "metadata": {},
   "source": [
    "Достигаемый уровень значимости много меньше 5% порога, а значит нулевая гипотеза об отсутствии зависимости шанса возврата кредита от уровня образования уверенно отвергается."
   ]
  },
  {
   "cell_type": "markdown",
   "id": "d3484213",
   "metadata": {},
   "source": [
    "Посмотрим на разность ожидаемого и наблюдаемого количества возвратов, а потом нормируем это на количество людей с соответствующим уровнем образования, чтобы наглядно увидеть практическую значимость зависимости:"
   ]
  },
  {
   "cell_type": "code",
   "execution_count": 93,
   "id": "b9ededb0",
   "metadata": {},
   "outputs": [
    {
     "data": {
      "text/html": [
       "<div>\n",
       "<style scoped>\n",
       "    .dataframe tbody tr th:only-of-type {\n",
       "        vertical-align: middle;\n",
       "    }\n",
       "\n",
       "    .dataframe tbody tr th {\n",
       "        vertical-align: top;\n",
       "    }\n",
       "\n",
       "    .dataframe thead th {\n",
       "        text-align: right;\n",
       "    }\n",
       "</style>\n",
       "<table border=\"1\" class=\"dataframe\">\n",
       "  <thead>\n",
       "    <tr style=\"text-align: right;\">\n",
       "      <th>Education</th>\n",
       "      <th>бакалавр</th>\n",
       "      <th>выпускник школы</th>\n",
       "      <th>доктор</th>\n",
       "      <th>магистр</th>\n",
       "      <th>начальное образование</th>\n",
       "      <th>нет данных</th>\n",
       "      <th>прочее</th>\n",
       "    </tr>\n",
       "    <tr>\n",
       "      <th>default</th>\n",
       "      <th></th>\n",
       "      <th></th>\n",
       "      <th></th>\n",
       "      <th></th>\n",
       "      <th></th>\n",
       "      <th></th>\n",
       "      <th></th>\n",
       "    </tr>\n",
       "  </thead>\n",
       "  <tbody>\n",
       "    <tr>\n",
       "      <th>0</th>\n",
       "      <td>-226.564</td>\n",
       "      <td>-149.3596</td>\n",
       "      <td>3.0968</td>\n",
       "      <td>305.402</td>\n",
       "      <td>20.2076</td>\n",
       "      <td>3.2812</td>\n",
       "      <td>43.936</td>\n",
       "    </tr>\n",
       "    <tr>\n",
       "      <th>1</th>\n",
       "      <td>226.564</td>\n",
       "      <td>149.3596</td>\n",
       "      <td>-3.0968</td>\n",
       "      <td>-305.402</td>\n",
       "      <td>-20.2076</td>\n",
       "      <td>-3.2812</td>\n",
       "      <td>-43.936</td>\n",
       "    </tr>\n",
       "  </tbody>\n",
       "</table>\n",
       "</div>"
      ],
      "text/plain": [
       "Education  бакалавр  выпускник школы  доктор  магистр  начальное образование  \\\n",
       "default                                                                        \n",
       "0          -226.564        -149.3596  3.0968  305.402                20.2076   \n",
       "1           226.564         149.3596 -3.0968 -305.402               -20.2076   \n",
       "\n",
       "Education  нет данных  прочее  \n",
       "default                        \n",
       "0              3.2812  43.936  \n",
       "1             -3.2812 -43.936  "
      ]
     },
     "execution_count": 93,
     "metadata": {},
     "output_type": "execute_result"
    }
   ],
   "source": [
    "obs_exp_diff = pd.DataFrame(default_education - expected, columns = default_education.columns,\n",
    "                           index = default_education.index)\n",
    "obs_exp_diff"
   ]
  },
  {
   "cell_type": "code",
   "execution_count": 94,
   "id": "4e60351e",
   "metadata": {},
   "outputs": [
    {
     "data": {
      "text/html": [
       "<div>\n",
       "<style scoped>\n",
       "    .dataframe tbody tr th:only-of-type {\n",
       "        vertical-align: middle;\n",
       "    }\n",
       "\n",
       "    .dataframe tbody tr th {\n",
       "        vertical-align: top;\n",
       "    }\n",
       "\n",
       "    .dataframe thead th {\n",
       "        text-align: right;\n",
       "    }\n",
       "</style>\n",
       "<table border=\"1\" class=\"dataframe\">\n",
       "  <thead>\n",
       "    <tr style=\"text-align: right;\">\n",
       "      <th>Education</th>\n",
       "      <th>бакалавр</th>\n",
       "      <th>выпускник школы</th>\n",
       "      <th>доктор</th>\n",
       "      <th>магистр</th>\n",
       "      <th>начальное образование</th>\n",
       "      <th>нет данных</th>\n",
       "      <th>прочее</th>\n",
       "    </tr>\n",
       "    <tr>\n",
       "      <th>default</th>\n",
       "      <th></th>\n",
       "      <th></th>\n",
       "      <th></th>\n",
       "      <th></th>\n",
       "      <th></th>\n",
       "      <th></th>\n",
       "      <th></th>\n",
       "    </tr>\n",
       "  </thead>\n",
       "  <tbody>\n",
       "    <tr>\n",
       "      <th>0</th>\n",
       "      <td>-0.016149</td>\n",
       "      <td>-0.030376</td>\n",
       "      <td>0.2212</td>\n",
       "      <td>0.028852</td>\n",
       "      <td>0.164289</td>\n",
       "      <td>0.064337</td>\n",
       "      <td>0.156914</td>\n",
       "    </tr>\n",
       "    <tr>\n",
       "      <th>1</th>\n",
       "      <td>0.016149</td>\n",
       "      <td>0.030376</td>\n",
       "      <td>-0.2212</td>\n",
       "      <td>-0.028852</td>\n",
       "      <td>-0.164289</td>\n",
       "      <td>-0.064337</td>\n",
       "      <td>-0.156914</td>\n",
       "    </tr>\n",
       "  </tbody>\n",
       "</table>\n",
       "</div>"
      ],
      "text/plain": [
       "Education  бакалавр  выпускник школы  доктор   магистр  начальное образование  \\\n",
       "default                                                                         \n",
       "0         -0.016149        -0.030376  0.2212  0.028852               0.164289   \n",
       "1          0.016149         0.030376 -0.2212 -0.028852              -0.164289   \n",
       "\n",
       "Education  нет данных    прочее  \n",
       "default                          \n",
       "0            0.064337  0.156914  \n",
       "1           -0.064337 -0.156914  "
      ]
     },
     "execution_count": 94,
     "metadata": {},
     "output_type": "execute_result"
    }
   ],
   "source": [
    "obs_exp_diff/default_education.sum(axis=0)"
   ]
  },
  {
   "cell_type": "markdown",
   "id": "b0a5b857",
   "metadata": {},
   "source": [
    "Следующий график демонстрирует процентное соотношение между возвратами и невозвратами кредитов в зависимости от  уровня образования, горизонтальной прямой обозначен ожидаемый уровень невозвратов, считаемый по всей выборке:"
   ]
  },
  {
   "cell_type": "code",
   "execution_count": 112,
   "id": "e3b96cbc",
   "metadata": {},
   "outputs": [],
   "source": [
    "expected_default_rate = data_def.shape[0]/data.shape[0]"
   ]
  },
  {
   "cell_type": "code",
   "execution_count": 178,
   "id": "f64ac3b8",
   "metadata": {},
   "outputs": [
    {
     "data": {
      "image/png": "[encoded data removed]",
      "text/plain": [
       "<Figure size 720x360 with 1 Axes>"
      ]
     },
     "metadata": {},
     "output_type": "display_data"
    }
   ],
   "source": [
    "plt.figure(figsize=(10, 5))\n",
    "total = data_ed.groupby('education')['default'].count().reset_index()\n",
    "data_ed_def = data_ed.groupby(\"education\")['default'].sum().reset_index()\n",
    "data_ed_def['default'] = [i/j*100 for i,j in zip(data_ed_def['default'], total['default'])]\n",
    "total['default'] = [i/j*100 for i,j in zip(total['default'], total['default'])]\n",
    "\n",
    "bar_total = sns.barplot(x='education', y='default', data=total, color='b', alpha = 0.8)\n",
    "bar_defaulters = sns.barplot(x='education', y='default', data=data_ed_def, color='orange', alpha = 0.6)\n",
    "top_bar = mpatches.Patch(color='b', alpha = 0.8, label='default = 0')\n",
    "bottom_bar = mpatches.Patch(color='orange', alpha = 0.6, label='default = 1')\n",
    "plt.xticks(rotation=45)\n",
    "plt.ylabel(\"%\")\n",
    "plt.xlabel(\"education\")\n",
    "plt.legend(handles=[top_bar, bottom_bar], loc='upper right')\n",
    "plt.axhline(expected_default_rate*100, 0, 1, color='r', ls=':', lw=2.5, alpha=0.8)\n",
    "plt.show()"
   ]
  },
  {
   "cell_type": "markdown",
   "id": "e110e760",
   "metadata": {},
   "source": [
    "Рассмотрим долю невозвратов в каждой подвыборке и выясним, влияет ли наличие того или иного уровня образования на отклонение шанса возврата от среднего:"
   ]
  },
  {
   "cell_type": "code",
   "execution_count": 157,
   "id": "05135e02",
   "metadata": {},
   "outputs": [
    {
     "data": {
      "text/html": [
       "<div>\n",
       "<style scoped>\n",
       "    .dataframe tbody tr th:only-of-type {\n",
       "        vertical-align: middle;\n",
       "    }\n",
       "\n",
       "    .dataframe tbody tr th {\n",
       "        vertical-align: top;\n",
       "    }\n",
       "\n",
       "    .dataframe thead th {\n",
       "        text-align: right;\n",
       "    }\n",
       "</style>\n",
       "<table border=\"1\" class=\"dataframe\">\n",
       "  <thead>\n",
       "    <tr style=\"text-align: right;\">\n",
       "      <th></th>\n",
       "      <th>observed</th>\n",
       "      <th>expected</th>\n",
       "      <th>difference</th>\n",
       "      <th>exp_prop</th>\n",
       "      <th>obs_prop</th>\n",
       "      <th>prop_diff</th>\n",
       "    </tr>\n",
       "    <tr>\n",
       "      <th>education</th>\n",
       "      <th></th>\n",
       "      <th></th>\n",
       "      <th></th>\n",
       "      <th></th>\n",
       "      <th></th>\n",
       "      <th></th>\n",
       "    </tr>\n",
       "  </thead>\n",
       "  <tbody>\n",
       "    <tr>\n",
       "      <th>доктор</th>\n",
       "      <td>0</td>\n",
       "      <td>3.0968</td>\n",
       "      <td>-3.0968</td>\n",
       "      <td>0.2212</td>\n",
       "      <td>0.000000</td>\n",
       "      <td>-0.221200</td>\n",
       "    </tr>\n",
       "    <tr>\n",
       "      <th>магистр</th>\n",
       "      <td>2036</td>\n",
       "      <td>2341.4020</td>\n",
       "      <td>-305.4020</td>\n",
       "      <td>0.2212</td>\n",
       "      <td>0.192348</td>\n",
       "      <td>-0.028852</td>\n",
       "    </tr>\n",
       "    <tr>\n",
       "      <th>бакалавр</th>\n",
       "      <td>3330</td>\n",
       "      <td>3103.4360</td>\n",
       "      <td>226.5640</td>\n",
       "      <td>0.2212</td>\n",
       "      <td>0.237349</td>\n",
       "      <td>0.016149</td>\n",
       "    </tr>\n",
       "    <tr>\n",
       "      <th>выпускник школы</th>\n",
       "      <td>1237</td>\n",
       "      <td>1087.6404</td>\n",
       "      <td>149.3596</td>\n",
       "      <td>0.2212</td>\n",
       "      <td>0.251576</td>\n",
       "      <td>0.030376</td>\n",
       "    </tr>\n",
       "    <tr>\n",
       "      <th>начальное образование</th>\n",
       "      <td>7</td>\n",
       "      <td>27.2076</td>\n",
       "      <td>-20.2076</td>\n",
       "      <td>0.2212</td>\n",
       "      <td>0.056911</td>\n",
       "      <td>-0.164289</td>\n",
       "    </tr>\n",
       "    <tr>\n",
       "      <th>прочее</th>\n",
       "      <td>18</td>\n",
       "      <td>61.9360</td>\n",
       "      <td>-43.9360</td>\n",
       "      <td>0.2212</td>\n",
       "      <td>0.064286</td>\n",
       "      <td>-0.156914</td>\n",
       "    </tr>\n",
       "    <tr>\n",
       "      <th>нет данных</th>\n",
       "      <td>8</td>\n",
       "      <td>11.2812</td>\n",
       "      <td>-3.2812</td>\n",
       "      <td>0.2212</td>\n",
       "      <td>0.156863</td>\n",
       "      <td>-0.064337</td>\n",
       "    </tr>\n",
       "  </tbody>\n",
       "</table>\n",
       "</div>"
      ],
      "text/plain": [
       "                       observed   expected  difference  exp_prop  obs_prop  \\\n",
       "education                                                                    \n",
       "доктор                        0     3.0968     -3.0968    0.2212  0.000000   \n",
       "магистр                    2036  2341.4020   -305.4020    0.2212  0.192348   \n",
       "бакалавр                   3330  3103.4360    226.5640    0.2212  0.237349   \n",
       "выпускник школы            1237  1087.6404    149.3596    0.2212  0.251576   \n",
       "начальное образование         7    27.2076    -20.2076    0.2212  0.056911   \n",
       "прочее                       18    61.9360    -43.9360    0.2212  0.064286   \n",
       "нет данных                    8    11.2812     -3.2812    0.2212  0.156863   \n",
       "\n",
       "                       prop_diff  \n",
       "education                         \n",
       "доктор                 -0.221200  \n",
       "магистр                -0.028852  \n",
       "бакалавр                0.016149  \n",
       "выпускник школы         0.030376  \n",
       "начальное образование  -0.164289  \n",
       "прочее                 -0.156914  \n",
       "нет данных             -0.064337  "
      ]
     },
     "execution_count": 157,
     "metadata": {},
     "output_type": "execute_result"
    }
   ],
   "source": [
    "ed_defaults = np.zeros(7).astype(int)\n",
    "for i in range(7):\n",
    "    ed_defaults[i] = data[data.default == 1][data.EDUCATION == i].shape[0]\n",
    "ed_exp_obs = pd.DataFrame(ed_defaults, columns = ['observed'])\n",
    "ed_exp_obs['expected'] = pd.Series((data['EDUCATION'].value_counts(sort = False)*expected_default_rate).values)\n",
    "ed_exp_obs['difference'] = ed_exp_obs.observed - ed_exp_obs.expected\n",
    "\n",
    "ed_exp_obs['exp_prop'] = ed_exp_obs.expected*0+expected_default_rate\n",
    "ed_exp_obs['obs_prop'] = ed_exp_obs.observed/data['EDUCATION'].value_counts(sort = False)\n",
    "ed_exp_obs['prop_diff'] = ed_exp_obs['obs_prop'] - ed_exp_obs['exp_prop']\n",
    "ed_exp_obs.set_index([dic_ed.education], inplace=True)\n",
    "\n",
    "ed_exp_obs"
   ]
  },
  {
   "cell_type": "code",
   "execution_count": null,
   "id": "fc738f5d",
   "metadata": {},
   "outputs": [],
   "source": [
    "Построим диаграмму доли невозвратов для каждой подвыборки с ее доверительным интервалом:"
   ]
  },
  {
   "cell_type": "code",
   "execution_count": 162,
   "id": "1c73ec87",
   "metadata": {},
   "outputs": [],
   "source": [
    "lefts = np.zeros(7)\n",
    "rights = np.zeros(7)\n",
    "for i in range(7):\n",
    "    sample1 = data[data.EDUCATION == i].default\n",
    "    lefts[i], rights[i] = proportion_confint(sample1.sum(), sample1.shape[0],\n",
    "                                            method = 'wilson')"
   ]
  },
  {
   "cell_type": "code",
   "execution_count": 181,
   "id": "df7ed049",
   "metadata": {},
   "outputs": [
    {
     "data": {
      "image/png": "[encoded data removed]",
      "text/plain": [
       "<Figure size 1080x504 with 1 Axes>"
      ]
     },
     "metadata": {},
     "output_type": "display_data"
    }
   ],
   "source": [
    "fig1, ax1 = plt.subplots(figsize = (15, 7))\n",
    "#ax1.set_facecolor((0.88, 1.0, 0.94))\n",
    "plt.rc('font', size=14)\n",
    "\n",
    "x = range(7)\n",
    "width = 0.9\n",
    "\n",
    "line1 = ax1.bar(x, ed_exp_obs['obs_prop'], width, color = 'b', alpha = 0.8)\n",
    "\n",
    "for i in range(7):\n",
    "    ax1.axhline(lefts[i], (i-width/2+0.8)/7.6, (i+width/2+0.8)/7.6, \n",
    "              color = (0, 0.2, 0.9), alpha = 0.7)\n",
    "    line0 = ax1.axhline(rights[i], (i-width/2+0.8)/7.6, (i+width/2+0.8)/7.6, \n",
    "              color = (0, 0.2, 0.9), alpha = 0.7)\n",
    "\n",
    "line2 = ax1.axhline(expected_default_rate, 0, 1, color = 'r', alpha = 0.8,\n",
    "            linewidth = 3)\n",
    "\n",
    "ax1.set_title('Default rate to eduction level relation')\n",
    "ax1.set_xlabel('Education')\n",
    "ax1.set_ylabel('Default proportion')\n",
    "ax1.set_ylim(top = 0.35)\n",
    "ax1.set_xlim(left = -0.8, right = 6.8)\n",
    "plt.xticks(ticks = x, labels = dic_ed.education)\n",
    "#plt.xticks(rotation=25)\n",
    "ax1.legend([line1, line0, line2], ['observed', '95% conf int', 'expected(average)'], shadow = True)\n",
    "plt.show()"
   ]
  },
  {
   "cell_type": "markdown",
   "id": "3c11a4d2",
   "metadata": {},
   "source": [
    "#### Как видно из графика, ни для одного из уровней образования (6 -- отсутствие данных) 95%-й доверительный интервал для доли невозвратов кредита не содержит среднего по всей выборке, что еще раз подтверждает влияние образования на шанс возврата долга, причем на данном уровне значимости гипотеза равенства доли возвратов средней отвергается для всех уровней образования без исключения. Также можно сделать вывод, что с большим среднего шансом не возвращают бакалавры и выпускники школ, а с меньшим - все остальные."
   ]
  },
  {
   "cell_type": "code",
   "execution_count": 168,
   "id": "6c643c4d",
   "metadata": {},
   "outputs": [
    {
     "data": {
      "text/latex": [
       "p-values for default's proportion of each lvl of education, where $H_0$ - equal to average:"
      ],
      "text/plain": [
       "<IPython.core.display.Latex object>"
      ]
     },
     "metadata": {},
     "output_type": "display_data"
    },
    {
     "name": "stdout",
     "output_type": "stream",
     "text": [
      "p-values: \n",
      " доктор: 0.0461572293\n",
      " магистр: 5e-10\n",
      " бакалавр: 0.0001612852\n",
      " выпускник школы: 2.3067e-06\n",
      " начальное образование: 1.15604e-05\n",
      " прочее: 3e-10\n",
      " нет данных: 0.2686219274\n"
     ]
    }
   ],
   "source": [
    "display(Latex('p-values for default\\'s proportion of each lvl of education, where $H_0$ - equal to average:'))\n",
    "ed_p_values = np.zeros(7)\n",
    "print('p-values: ')\n",
    "for i in range(7):\n",
    "    sample1 = data[data.EDUCATION == i].default\n",
    "    sample2 = data.default\n",
    "    temp = proportions_diff_z_test(proportions_diff_z_stat_ind(sample1, sample2)).round(10)\n",
    "    print(f' {dic_ed.education[i]}: {temp}')"
   ]
  },
  {
   "cell_type": "markdown",
   "id": "824d1b0a",
   "metadata": {},
   "source": [
    "#### Z-критерий для разности долей на уровне значимости 95% также уверенно отвергает нулевую гипотезу о равенстве наблюдаемой и ожидаемой доли возвратов в подбвыборках."
   ]
  },
  {
   "cell_type": "markdown",
   "id": "9a331f02",
   "metadata": {},
   "source": [
    "### Продолжим рассмотрение признаков, на очереди еще один категориальный - семейное положение:"
   ]
  },
  {
   "cell_type": "code",
   "execution_count": 184,
   "id": "a3310a98",
   "metadata": {},
   "outputs": [],
   "source": [
    "dic_m = pd.DataFrame({\"MARRIAGE\": [0, 1, 2, 3], \n",
    "                      \"marriage\": [\"отказываюсь ответить\", \"замужем/женат\", \"холост\",\n",
    "                                        \"нет данных\"]})\n",
    "data_marr = data[['MARRIAGE', 'default']].merge(dic_m)"
   ]
  },
  {
   "cell_type": "code",
   "execution_count": 185,
   "id": "7691c416",
   "metadata": {},
   "outputs": [
    {
     "data": {
      "image/png": "[encoded data removed]",
      "text/plain": [
       "<Figure size 945.725x360 with 1 Axes>"
      ]
     },
     "metadata": {},
     "output_type": "display_data"
    }
   ],
   "source": [
    "g = sns.displot(data=data_marr, x='marriage', hue='default', multiple='stack',\n",
    "               height=5, aspect=2.5)"
   ]
  },
  {
   "cell_type": "code",
   "execution_count": 187,
   "id": "ecd54c52",
   "metadata": {},
   "outputs": [
    {
     "data": {
      "text/html": [
       "<div>\n",
       "<style scoped>\n",
       "    .dataframe tbody tr th:only-of-type {\n",
       "        vertical-align: middle;\n",
       "    }\n",
       "\n",
       "    .dataframe tbody tr th {\n",
       "        vertical-align: top;\n",
       "    }\n",
       "\n",
       "    .dataframe thead th {\n",
       "        text-align: right;\n",
       "    }\n",
       "</style>\n",
       "<table border=\"1\" class=\"dataframe\">\n",
       "  <thead>\n",
       "    <tr style=\"text-align: right;\">\n",
       "      <th>marriage</th>\n",
       "      <th>замужем/женат</th>\n",
       "      <th>нет данных</th>\n",
       "      <th>отказываюсь ответить</th>\n",
       "      <th>холост</th>\n",
       "    </tr>\n",
       "    <tr>\n",
       "      <th>default</th>\n",
       "      <th></th>\n",
       "      <th></th>\n",
       "      <th></th>\n",
       "      <th></th>\n",
       "    </tr>\n",
       "  </thead>\n",
       "  <tbody>\n",
       "    <tr>\n",
       "      <th>0</th>\n",
       "      <td>10453</td>\n",
       "      <td>239</td>\n",
       "      <td>49</td>\n",
       "      <td>12623</td>\n",
       "    </tr>\n",
       "    <tr>\n",
       "      <th>1</th>\n",
       "      <td>3206</td>\n",
       "      <td>84</td>\n",
       "      <td>5</td>\n",
       "      <td>3341</td>\n",
       "    </tr>\n",
       "  </tbody>\n",
       "</table>\n",
       "</div>"
      ],
      "text/plain": [
       "marriage  замужем/женат  нет данных  отказываюсь ответить  холост\n",
       "default                                                          \n",
       "0                 10453         239                    49   12623\n",
       "1                  3206          84                     5    3341"
      ]
     },
     "execution_count": 187,
     "metadata": {},
     "output_type": "execute_result"
    }
   ],
   "source": [
    "def_marr_cross = pd.crosstab(data_marr.default, data_marr.marriage,\n",
    "                            rownames=['default'], colnames=['marriage'])\n",
    "def_marr_cross"
   ]
  },
  {
   "cell_type": "markdown",
   "id": "f0601fe8",
   "metadata": {},
   "source": [
    "Связь между семейным статусом и бинарным индикатором возврата кредита можно оценить с помощью коэффициента V Крамера, а статистическую значимость с помощью критерия хи-квадрат (использовать его мы можем, т.к. значения в каждой ячейке достаточно велики, а признаки бинарный и категориальный):"
   ]
  },
  {
   "cell_type": "code",
   "execution_count": 189,
   "id": "8717b6be",
   "metadata": {},
   "outputs": [
    {
     "name": "stdout",
     "output_type": "stream",
     "text": [
      "p-value для критерия хи-квадрат: 8.825862457577375e-08\n",
      "Коэффициент V Крамера: 0.034478203662766466\n"
     ]
    }
   ],
   "source": [
    "chi2_marr, p_marr, dof_marr, expected_marriage = stats.chi2_contingency(def_marr_cross)\n",
    "print(f'p-value для критерия хи-квадрат: {p_marr}')\n",
    "n = data_marr.shape[0]\n",
    "cramer_coef = np.sqrt(chi2_marr/ n /(2 - 1))\n",
    "print(f\"Коэффициент V Крамера: {cramer_coef}\")"
   ]
  },
  {
   "cell_type": "markdown",
   "id": "a31b411c",
   "metadata": {},
   "source": [
    "#### Как можно видеть, гипотеза о независимости семейного положения и шанса возврата кредита уверенно отвергается критерием хи-квадрат, т.е. зависимость статистически значима, однако коэффициент V Крамера крайне мал, а значит с практической точки зрения зависимость не значима."
   ]
  },
  {
   "cell_type": "markdown",
   "id": "c6683996",
   "metadata": {},
   "source": [
    "### Теперь рассмотрим связь возраста и вероятности возврата долга:"
   ]
  },
  {
   "cell_type": "markdown",
   "id": "fa6465d2",
   "metadata": {},
   "source": [
    "Посмотрим на распределение возврастов в подвыборках вернувших и не вернувших долг:"
   ]
  },
  {
   "cell_type": "code",
   "execution_count": 192,
   "id": "90e731c3",
   "metadata": {},
   "outputs": [
    {
     "data": {
      "image/png": "[encoded data removed]",
      "text/plain": [
       "<Figure size 720x288 with 1 Axes>"
      ]
     },
     "metadata": {},
     "output_type": "display_data"
    }
   ],
   "source": [
    "g = sns.FacetGrid(data=data[['AGE', 'default']], hue='default', \n",
    "                 height=4, aspect=2.5, legend_out=False)\n",
    "g.map(sns.kdeplot, 'AGE', fill=True)\n",
    "g.add_legend(shadow=True, framealpha=0.9)\n",
    "g.ax.axvline(data_def.AGE.median(), ls='dashed', color='red')\n",
    "g.ax.axvline(data_ret.AGE.median(), ls=':', color='blue')\n",
    "plt.show()"
   ]
  },
  {
   "cell_type": "markdown",
   "id": "2bf0c1af",
   "metadata": {},
   "source": [
    "На первый взгляд, распределения практически совпадают, а медианы совпадают, проверим так ли это, посчитав выборочные медианы и воспользовавшись критерием Манна-Уитни:"
   ]
  },
  {
   "cell_type": "code",
   "execution_count": 193,
   "id": "0b030aa2",
   "metadata": {},
   "outputs": [
    {
     "name": "stdout",
     "output_type": "stream",
     "text": [
      "default=0: \n",
      " median = 34.0\n",
      "default=1: \n",
      " median = 34.0\n"
     ]
    }
   ],
   "source": [
    "print(f'default=0: \\n median = {data_ret.AGE.median()}')\n",
    "print(f'default=1: \\n median = {data_def.AGE.median()}')"
   ]
  },
  {
   "cell_type": "markdown",
   "id": "93832814",
   "metadata": {},
   "source": [
    "Выборочные медианы в точности совпадают, а значит мы не можем ни при каких условиях отвергнуть нулевую гипотезу о равенстве медиан возврастов вернувших и не вернувших кредит."
   ]
  },
  {
   "cell_type": "code",
   "execution_count": 32,
   "id": "20afabc4",
   "metadata": {},
   "outputs": [
    {
     "data": {
      "text/plain": [
       "MannwhitneyuResult(statistic=76966879.5, pvalue=0.3725035434898616)"
      ]
     },
     "execution_count": 32,
     "metadata": {},
     "output_type": "execute_result"
    }
   ],
   "source": [
    "sts.mannwhitneyu(data_ret.AGE, data_def.AGE, alternative = 'two-sided')"
   ]
  },
  {
   "cell_type": "markdown",
   "id": "60954d16",
   "metadata": {},
   "source": [
    "#### Критерий Манна-Уитни дает достигаемый уровень значимости 0.37, значит нельзя отвергнуть нулевую гипотезу о совпадении распределений возраста заемщиков, вернувших и не вернувших кредит. Таким образом, возраст заемщика не влияет на вероятность возврата им кредита."
   ]
  }
 ],
 "metadata": {
  "kernelspec": {
   "display_name": "Python 3",
   "language": "python",
   "name": "python3"
  },
  "language_info": {
   "codemirror_mode": {
    "name": "ipython",
    "version": 3
   },
   "file_extension": ".py",
   "mimetype": "text/x-python",
   "name": "python",
   "nbconvert_exporter": "python",
   "pygments_lexer": "ipython3",
   "version": "3.8.8"
  }
 },
 "nbformat": 4,
 "nbformat_minor": 5
}
